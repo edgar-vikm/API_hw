{
 "cells": [
  {
   "cell_type": "markdown",
   "metadata": {},
   "source": [
    "# Unit 5 - Financial Planning\n"
   ]
  },
  {
   "cell_type": "code",
   "execution_count": 1,
   "metadata": {},
   "outputs": [],
   "source": [
    "# Initial imports\n",
    "import os\n",
    "import requests\n",
    "import pandas as pd\n",
    "from dotenv import load_dotenv\n",
    "import alpaca_trade_api as tradeapi\n",
    "from MCForecastTools import MCSimulation\n",
    "import json\n",
    "\n",
    "%matplotlib inline"
   ]
  },
  {
   "cell_type": "code",
   "execution_count": 2,
   "metadata": {},
   "outputs": [
    {
     "data": {
      "text/plain": [
       "True"
      ]
     },
     "execution_count": 2,
     "metadata": {},
     "output_type": "execute_result"
    }
   ],
   "source": [
    "# Load .env enviroment variables\n",
    "load_dotenv()"
   ]
  },
  {
   "cell_type": "markdown",
   "metadata": {},
   "source": [
    "## Part 1 - Personal Finance Planner"
   ]
  },
  {
   "cell_type": "markdown",
   "metadata": {},
   "source": [
    "### Collect Crypto Prices Using the `requests` Library"
   ]
  },
  {
   "cell_type": "code",
   "execution_count": 3,
   "metadata": {},
   "outputs": [],
   "source": [
    "# Set current amount of crypto assets\n",
    "my_btc= 1.2\n",
    "my_eth= 5.3"
   ]
  },
  {
   "cell_type": "code",
   "execution_count": 4,
   "metadata": {},
   "outputs": [],
   "source": [
    "# Crypto API URLs\n",
    "btc_url = \"https://api.alternative.me/v2/ticker/Bitcoin/?convert=CAD\"\n",
    "f_btc_url = btc_url + \"?format=json\"\n",
    "eth_url = \"https://api.alternative.me/v2/ticker/Ethereum/?convert=CAD\"\n",
    "f_eth_url = eth_url + \"?format=json\"\n",
    "#format specifier with \"?format=json\""
   ]
  },
  {
   "cell_type": "code",
   "execution_count": null,
   "metadata": {},
   "outputs": [],
   "source": []
  },
  {
   "cell_type": "code",
   "execution_count": 5,
   "metadata": {},
   "outputs": [
    {
     "name": "stdout",
     "output_type": "stream",
     "text": [
      "The current value of your 1.2 BTC is $52796.40\n",
      "The current value of your 5.3 ETH is $7224.38\n"
     ]
    }
   ],
   "source": [
    "# Fetch current BTC price\n",
    "btc_data= requests.get(f_btc_url).json()\n",
    "#print(json.dumps(btc_data, indent=4))\n",
    "btc_price= btc_data['data']['1']['quotes']['USD']['price']\n",
    "# Fetch current ETH price\n",
    "eth_data= requests.get(f_eth_url).json()\n",
    "#print(json.dumps(eth_data, indent = 4))\n",
    "eth_price=eth_data['data']['1027']['quotes']['USD']['price']\n",
    "# Compute current value of my crpto\n",
    "my_btc_value= my_btc*btc_price\n",
    "my_eth_value= my_eth*eth_price\n",
    "# Print current crypto wallet balance\n",
    "print(f\"The current value of your {my_btc} BTC is ${my_btc_value:0.2f}\")\n",
    "print(f\"The current value of your {my_eth} ETH is ${my_eth_value:0.2f}\")"
   ]
  },
  {
   "cell_type": "code",
   "execution_count": 6,
   "metadata": {},
   "outputs": [],
   "source": [
    "crypto_bal= my_btc_value + my_eth_value"
   ]
  },
  {
   "cell_type": "markdown",
   "metadata": {},
   "source": [
    "### Collect Investments Data Using Alpaca: `SPY` (stocks) and `AGG` (bonds)"
   ]
  },
  {
   "cell_type": "code",
   "execution_count": 7,
   "metadata": {},
   "outputs": [],
   "source": [
    "# Current amount of shares\n",
    "my_agg=200\n",
    "my_spy=50"
   ]
  },
  {
   "cell_type": "code",
   "execution_count": 8,
   "metadata": {},
   "outputs": [
    {
     "data": {
      "text/plain": [
       "<alpaca_trade_api.rest.REST at 0x17a73c6f908>"
      ]
     },
     "execution_count": 8,
     "metadata": {},
     "output_type": "execute_result"
    }
   ],
   "source": [
    "# Set Alpaca API key and secret\n",
    "load_dotenv()\n",
    "base_url=('https://paper-api.alpaca.markets')\n",
    "api_key= os.getenv('ALPACA_API_KEY')\n",
    "sec_api_key = os.getenv('ALPACA_SECRET_KEY')\n",
    "\n",
    "# Create the Alpaca API object\n",
    "alpaca= tradeapi.REST(\n",
    "        api_key,\n",
    "        sec_api_key,\n",
    "        base_url,\n",
    "        api_version=\"v2\")\n",
    "alpaca"
   ]
  },
  {
   "cell_type": "code",
   "execution_count": 9,
   "metadata": {},
   "outputs": [
    {
     "data": {
      "text/html": [
       "<div>\n",
       "<style scoped>\n",
       "    .dataframe tbody tr th:only-of-type {\n",
       "        vertical-align: middle;\n",
       "    }\n",
       "\n",
       "    .dataframe tbody tr th {\n",
       "        vertical-align: top;\n",
       "    }\n",
       "\n",
       "    .dataframe thead tr th {\n",
       "        text-align: left;\n",
       "    }\n",
       "\n",
       "    .dataframe thead tr:last-of-type th {\n",
       "        text-align: right;\n",
       "    }\n",
       "</style>\n",
       "<table border=\"1\" class=\"dataframe\">\n",
       "  <thead>\n",
       "    <tr>\n",
       "      <th></th>\n",
       "      <th colspan=\"5\" halign=\"left\">AGG</th>\n",
       "      <th colspan=\"5\" halign=\"left\">SPY</th>\n",
       "    </tr>\n",
       "    <tr>\n",
       "      <th></th>\n",
       "      <th>open</th>\n",
       "      <th>high</th>\n",
       "      <th>low</th>\n",
       "      <th>close</th>\n",
       "      <th>volume</th>\n",
       "      <th>open</th>\n",
       "      <th>high</th>\n",
       "      <th>low</th>\n",
       "      <th>close</th>\n",
       "      <th>volume</th>\n",
       "    </tr>\n",
       "    <tr>\n",
       "      <th>time</th>\n",
       "      <th></th>\n",
       "      <th></th>\n",
       "      <th></th>\n",
       "      <th></th>\n",
       "      <th></th>\n",
       "      <th></th>\n",
       "      <th></th>\n",
       "      <th></th>\n",
       "      <th></th>\n",
       "      <th></th>\n",
       "    </tr>\n",
       "  </thead>\n",
       "  <tbody>\n",
       "    <tr>\n",
       "      <th>2021-02-26 00:00:00-05:00</th>\n",
       "      <td>114.96</td>\n",
       "      <td>115.39</td>\n",
       "      <td>114.5915</td>\n",
       "      <td>115.37</td>\n",
       "      <td>9735524</td>\n",
       "      <td>384.35</td>\n",
       "      <td>385.58</td>\n",
       "      <td>378.23</td>\n",
       "      <td>380.32</td>\n",
       "      <td>134902084</td>\n",
       "    </tr>\n",
       "  </tbody>\n",
       "</table>\n",
       "</div>"
      ],
      "text/plain": [
       "                              AGG                                        SPY  \\\n",
       "                             open    high       low   close   volume    open   \n",
       "time                                                                           \n",
       "2021-02-26 00:00:00-05:00  114.96  115.39  114.5915  115.37  9735524  384.35   \n",
       "\n",
       "                                                              \n",
       "                             high     low   close     volume  \n",
       "time                                                          \n",
       "2021-02-26 00:00:00-05:00  385.58  378.23  380.32  134902084  "
      ]
     },
     "execution_count": 9,
     "metadata": {},
     "output_type": "execute_result"
    }
   ],
   "source": [
    "# Format current date as ISO format\n",
    "today= pd.Timestamp(\"2021-02-26\", tz= \"America/New_York\").isoformat()\n",
    "\n",
    "# Set the tickers\n",
    "tickers = [\"AGG\", \"SPY\"]\n",
    "\n",
    "# Set timeframe to '1D' for Alpaca API\n",
    "timeframe = \"1D\"\n",
    "\n",
    "# Get current closing prices for SPY and AGG\n",
    "df_alpaca= alpaca.get_barset(tickers,timeframe, start= today, end= today).df\n",
    "# Preview DataFrame\n",
    "df_alpaca"
   ]
  },
  {
   "cell_type": "code",
   "execution_count": 10,
   "metadata": {},
   "outputs": [
    {
     "name": "stdout",
     "output_type": "stream",
     "text": [
      "Current AGG closing price: $2021-02-26    115.37\n",
      "Name: AGG, dtype: float64\n",
      "Current SPY closing price: $2021-02-26    380.32\n",
      "Name: SPY, dtype: float64\n"
     ]
    }
   ],
   "source": [
    "# Pick AGG and SPY close prices\n",
    "closed= pd.DataFrame()\n",
    "closed['AGG']= df_alpaca['AGG']['close']\n",
    "closed['SPY']= df_alpaca['SPY']['close']\n",
    "closed.index= closed.index.date\n",
    "agg_close_price = closed[\"AGG\"]\n",
    "spy_close_price = closed[\"SPY\"]\n",
    "\n",
    "# Print AGG and SPY close prices\n",
    "print(f\"Current AGG closing price: ${agg_close_price}\")\n",
    "print(f\"Current SPY closing price: ${spy_close_price}\")"
   ]
  },
  {
   "cell_type": "code",
   "execution_count": 11,
   "metadata": {},
   "outputs": [
    {
     "name": "stdout",
     "output_type": "stream",
     "text": [
      "The current value of your 50 SPY shares is $19016.00\n",
      "The current value of your 200 AGG shares is $23074.00\n"
     ]
    }
   ],
   "source": [
    "# Compute the current value of shares\n",
    "my_spy_value= my_spy*380.32\n",
    "my_agg_value= my_agg*115.37\n",
    "stonks= my_spy_value+ my_agg_value\n",
    "# Print current value of share\n",
    "print(f\"The current value of your {my_spy} SPY shares is ${my_spy_value:0.2f}\")\n",
    "print(f\"The current value of your {my_agg} AGG shares is ${my_agg_value:0.2f}\")"
   ]
  },
  {
   "cell_type": "markdown",
   "metadata": {},
   "source": [
    "### Savings Health Analysis"
   ]
  },
  {
   "cell_type": "code",
   "execution_count": 17,
   "metadata": {},
   "outputs": [
    {
     "data": {
      "text/html": [
       "<div>\n",
       "<style scoped>\n",
       "    .dataframe tbody tr th:only-of-type {\n",
       "        vertical-align: middle;\n",
       "    }\n",
       "\n",
       "    .dataframe tbody tr th {\n",
       "        vertical-align: top;\n",
       "    }\n",
       "\n",
       "    .dataframe thead th {\n",
       "        text-align: right;\n",
       "    }\n",
       "</style>\n",
       "<table border=\"1\" class=\"dataframe\">\n",
       "  <thead>\n",
       "    <tr style=\"text-align: right;\">\n",
       "      <th></th>\n",
       "      <th>amount</th>\n",
       "    </tr>\n",
       "  </thead>\n",
       "  <tbody>\n",
       "    <tr>\n",
       "      <th>crypto</th>\n",
       "      <td>60020.777</td>\n",
       "    </tr>\n",
       "    <tr>\n",
       "      <th>shares</th>\n",
       "      <td>42090.000</td>\n",
       "    </tr>\n",
       "  </tbody>\n",
       "</table>\n",
       "</div>"
      ],
      "text/plain": [
       "           amount\n",
       "crypto  60020.777\n",
       "shares  42090.000"
      ]
     },
     "execution_count": 17,
     "metadata": {},
     "output_type": "execute_result"
    }
   ],
   "source": [
    "# Set monthly household income\n",
    "monthly_income = 12000\n",
    "\n",
    "\n",
    "# Create savings DataFrame\n",
    "df_savings= pd.DataFrame({\"amount\":[crypto_bal,stonks]}, index=['crypto','shares'])\n",
    "\n",
    "# Display savings DataFrame\n",
    "df_savings"
   ]
  },
  {
   "cell_type": "code",
   "execution_count": 24,
   "metadata": {},
   "outputs": [
    {
     "data": {
      "text/plain": [
       "array([<AxesSubplot:ylabel='amount'>], dtype=object)"
      ]
     },
     "execution_count": 24,
     "metadata": {},
     "output_type": "execute_result"
    },
    {
     "data": {
      "image/png": "[encoded data removed]",
      "text/plain": [
       "<Figure size 432x288 with 1 Axes>"
      ]
     },
     "metadata": {},
     "output_type": "display_data"
    }
   ],
   "source": [
    "# Plot savings pie chart\n",
    "df_savings.plot.pie(subplots= True)"
   ]
  },
  {
   "cell_type": "code",
   "execution_count": null,
   "metadata": {},
   "outputs": [],
   "source": []
  },
  {
   "cell_type": "code",
   "execution_count": 30,
   "metadata": {},
   "outputs": [
    {
     "name": "stdout",
     "output_type": "stream",
     "text": [
      "Congratulations! You have more than enough funds\n"
     ]
    }
   ],
   "source": [
    "# Set ideal emergency fund\n",
    "emergency_fund = monthly_income * 3\n",
    "# Calculate total amount of savings\n",
    "savings_total= crypto_bal + stonks\n",
    "financial_goal= emergency_fund - savings_total\n",
    "# Validate saving health\n",
    "if savings_total > emergency_fund :\n",
    "    print(\"Congratulations! You have more than enough funds\")\n",
    "elif savings_total == emergency_fund:\n",
    "    print(\"Congratulations! You have reached your financial goal\")\n",
    "else:\n",
    "    print(f\"Keep at it! you are {savings_total:0.2f}$ away from your goal.\")"
   ]
  },
  {
   "cell_type": "markdown",
   "metadata": {},
   "source": [
    "## Part 2 - Retirement Planning\n",
    "\n",
    "### Monte Carlo Simulation"
   ]
  },
  {
   "cell_type": "code",
   "execution_count": 41,
   "metadata": {},
   "outputs": [],
   "source": [
    "# Set start and end dates of five years back from today.\n",
    "# Sample results may vary from the solution based on the time frame chosen\n",
    "start_date = pd.Timestamp('2015-08-07', tz='America/New_York').isoformat()\n",
    "end_date = pd.Timestamp('2021-08-02', tz='America/New_York').isoformat()"
   ]
  },
  {
   "cell_type": "code",
   "execution_count": 42,
   "metadata": {},
   "outputs": [
    {
     "data": {
      "text/html": [
       "<div>\n",
       "<style scoped>\n",
       "    .dataframe tbody tr th:only-of-type {\n",
       "        vertical-align: middle;\n",
       "    }\n",
       "\n",
       "    .dataframe tbody tr th {\n",
       "        vertical-align: top;\n",
       "    }\n",
       "\n",
       "    .dataframe thead tr th {\n",
       "        text-align: left;\n",
       "    }\n",
       "\n",
       "    .dataframe thead tr:last-of-type th {\n",
       "        text-align: right;\n",
       "    }\n",
       "</style>\n",
       "<table border=\"1\" class=\"dataframe\">\n",
       "  <thead>\n",
       "    <tr>\n",
       "      <th></th>\n",
       "      <th colspan=\"5\" halign=\"left\">AGG</th>\n",
       "      <th colspan=\"5\" halign=\"left\">SPY</th>\n",
       "    </tr>\n",
       "    <tr>\n",
       "      <th></th>\n",
       "      <th>open</th>\n",
       "      <th>high</th>\n",
       "      <th>low</th>\n",
       "      <th>close</th>\n",
       "      <th>volume</th>\n",
       "      <th>open</th>\n",
       "      <th>high</th>\n",
       "      <th>low</th>\n",
       "      <th>close</th>\n",
       "      <th>volume</th>\n",
       "    </tr>\n",
       "    <tr>\n",
       "      <th>time</th>\n",
       "      <th></th>\n",
       "      <th></th>\n",
       "      <th></th>\n",
       "      <th></th>\n",
       "      <th></th>\n",
       "      <th></th>\n",
       "      <th></th>\n",
       "      <th></th>\n",
       "      <th></th>\n",
       "      <th></th>\n",
       "    </tr>\n",
       "  </thead>\n",
       "  <tbody>\n",
       "    <tr>\n",
       "      <th>2020-10-05 00:00:00-04:00</th>\n",
       "      <td>117.74</td>\n",
       "      <td>117.74</td>\n",
       "      <td>117.5200</td>\n",
       "      <td>117.520</td>\n",
       "      <td>4343747</td>\n",
       "      <td>336.06</td>\n",
       "      <td>339.96</td>\n",
       "      <td>336.01</td>\n",
       "      <td>339.73</td>\n",
       "      <td>38510456</td>\n",
       "    </tr>\n",
       "    <tr>\n",
       "      <th>2020-10-06 00:00:00-04:00</th>\n",
       "      <td>117.60</td>\n",
       "      <td>117.84</td>\n",
       "      <td>117.4900</td>\n",
       "      <td>117.610</td>\n",
       "      <td>3973998</td>\n",
       "      <td>339.92</td>\n",
       "      <td>342.17</td>\n",
       "      <td>334.38</td>\n",
       "      <td>334.94</td>\n",
       "      <td>74231873</td>\n",
       "    </tr>\n",
       "    <tr>\n",
       "      <th>2020-10-07 00:00:00-04:00</th>\n",
       "      <td>117.53</td>\n",
       "      <td>117.66</td>\n",
       "      <td>117.4515</td>\n",
       "      <td>117.530</td>\n",
       "      <td>3867168</td>\n",
       "      <td>338.12</td>\n",
       "      <td>341.63</td>\n",
       "      <td>338.09</td>\n",
       "      <td>340.73</td>\n",
       "      <td>40579189</td>\n",
       "    </tr>\n",
       "    <tr>\n",
       "      <th>2020-10-08 00:00:00-04:00</th>\n",
       "      <td>117.67</td>\n",
       "      <td>117.71</td>\n",
       "      <td>117.5900</td>\n",
       "      <td>117.690</td>\n",
       "      <td>3561383</td>\n",
       "      <td>342.85</td>\n",
       "      <td>343.85</td>\n",
       "      <td>341.86</td>\n",
       "      <td>343.73</td>\n",
       "      <td>35831859</td>\n",
       "    </tr>\n",
       "    <tr>\n",
       "      <th>2020-10-09 00:00:00-04:00</th>\n",
       "      <td>117.65</td>\n",
       "      <td>117.74</td>\n",
       "      <td>117.5000</td>\n",
       "      <td>117.705</td>\n",
       "      <td>2750029</td>\n",
       "      <td>345.56</td>\n",
       "      <td>347.35</td>\n",
       "      <td>344.89</td>\n",
       "      <td>346.84</td>\n",
       "      <td>45969566</td>\n",
       "    </tr>\n",
       "  </tbody>\n",
       "</table>\n",
       "</div>"
      ],
      "text/plain": [
       "                              AGG                                         SPY  \\\n",
       "                             open    high       low    close   volume    open   \n",
       "time                                                                            \n",
       "2020-10-05 00:00:00-04:00  117.74  117.74  117.5200  117.520  4343747  336.06   \n",
       "2020-10-06 00:00:00-04:00  117.60  117.84  117.4900  117.610  3973998  339.92   \n",
       "2020-10-07 00:00:00-04:00  117.53  117.66  117.4515  117.530  3867168  338.12   \n",
       "2020-10-08 00:00:00-04:00  117.67  117.71  117.5900  117.690  3561383  342.85   \n",
       "2020-10-09 00:00:00-04:00  117.65  117.74  117.5000  117.705  2750029  345.56   \n",
       "\n",
       "                                                             \n",
       "                             high     low   close    volume  \n",
       "time                                                         \n",
       "2020-10-05 00:00:00-04:00  339.96  336.01  339.73  38510456  \n",
       "2020-10-06 00:00:00-04:00  342.17  334.38  334.94  74231873  \n",
       "2020-10-07 00:00:00-04:00  341.63  338.09  340.73  40579189  \n",
       "2020-10-08 00:00:00-04:00  343.85  341.86  343.73  35831859  \n",
       "2020-10-09 00:00:00-04:00  347.35  344.89  346.84  45969566  "
      ]
     },
     "execution_count": 42,
     "metadata": {},
     "output_type": "execute_result"
    }
   ],
   "source": [
    "# Get 5 years' worth of historical data for SPY and AGG\n",
    "df_stock_data= alpaca.get_barset(tickers,timeframe, start= start_date, end= end_date).df\n",
    "\n",
    "# Display sample data\n",
    "df_stock_data.head()"
   ]
  },
  {
   "cell_type": "code",
   "execution_count": 43,
   "metadata": {},
   "outputs": [],
   "source": [
    "# Configuring a Monte Carlo simulation to forecast 30 years cumulative returns\n",
    "retire= MCSimulation(\n",
    "    portfolio_data= df_stock_data,\n",
    "    weights= [.495,.495],\n",
    "    num_simulation = 500,\n",
    "    num_trading_days= 252*30\n",
    ")"
   ]
  },
  {
   "cell_type": "code",
   "execution_count": 44,
   "metadata": {},
   "outputs": [
    {
     "data": {
      "text/html": [
       "<div>\n",
       "<style scoped>\n",
       "    .dataframe tbody tr th:only-of-type {\n",
       "        vertical-align: middle;\n",
       "    }\n",
       "\n",
       "    .dataframe tbody tr th {\n",
       "        vertical-align: top;\n",
       "    }\n",
       "\n",
       "    .dataframe thead tr th {\n",
       "        text-align: left;\n",
       "    }\n",
       "\n",
       "    .dataframe thead tr:last-of-type th {\n",
       "        text-align: right;\n",
       "    }\n",
       "</style>\n",
       "<table border=\"1\" class=\"dataframe\">\n",
       "  <thead>\n",
       "    <tr>\n",
       "      <th></th>\n",
       "      <th colspan=\"6\" halign=\"left\">AGG</th>\n",
       "      <th colspan=\"6\" halign=\"left\">SPY</th>\n",
       "    </tr>\n",
       "    <tr>\n",
       "      <th></th>\n",
       "      <th>open</th>\n",
       "      <th>high</th>\n",
       "      <th>low</th>\n",
       "      <th>close</th>\n",
       "      <th>volume</th>\n",
       "      <th>daily_return</th>\n",
       "      <th>open</th>\n",
       "      <th>high</th>\n",
       "      <th>low</th>\n",
       "      <th>close</th>\n",
       "      <th>volume</th>\n",
       "      <th>daily_return</th>\n",
       "    </tr>\n",
       "    <tr>\n",
       "      <th>time</th>\n",
       "      <th></th>\n",
       "      <th></th>\n",
       "      <th></th>\n",
       "      <th></th>\n",
       "      <th></th>\n",
       "      <th></th>\n",
       "      <th></th>\n",
       "      <th></th>\n",
       "      <th></th>\n",
       "      <th></th>\n",
       "      <th></th>\n",
       "      <th></th>\n",
       "    </tr>\n",
       "  </thead>\n",
       "  <tbody>\n",
       "    <tr>\n",
       "      <th>2020-10-05 00:00:00-04:00</th>\n",
       "      <td>117.74</td>\n",
       "      <td>117.74</td>\n",
       "      <td>117.5200</td>\n",
       "      <td>117.520</td>\n",
       "      <td>4343747</td>\n",
       "      <td>NaN</td>\n",
       "      <td>336.06</td>\n",
       "      <td>339.96</td>\n",
       "      <td>336.01</td>\n",
       "      <td>339.73</td>\n",
       "      <td>38510456</td>\n",
       "      <td>NaN</td>\n",
       "    </tr>\n",
       "    <tr>\n",
       "      <th>2020-10-06 00:00:00-04:00</th>\n",
       "      <td>117.60</td>\n",
       "      <td>117.84</td>\n",
       "      <td>117.4900</td>\n",
       "      <td>117.610</td>\n",
       "      <td>3973998</td>\n",
       "      <td>0.000766</td>\n",
       "      <td>339.92</td>\n",
       "      <td>342.17</td>\n",
       "      <td>334.38</td>\n",
       "      <td>334.94</td>\n",
       "      <td>74231873</td>\n",
       "      <td>-0.014099</td>\n",
       "    </tr>\n",
       "    <tr>\n",
       "      <th>2020-10-07 00:00:00-04:00</th>\n",
       "      <td>117.53</td>\n",
       "      <td>117.66</td>\n",
       "      <td>117.4515</td>\n",
       "      <td>117.530</td>\n",
       "      <td>3867168</td>\n",
       "      <td>-0.000680</td>\n",
       "      <td>338.12</td>\n",
       "      <td>341.63</td>\n",
       "      <td>338.09</td>\n",
       "      <td>340.73</td>\n",
       "      <td>40579189</td>\n",
       "      <td>0.017287</td>\n",
       "    </tr>\n",
       "    <tr>\n",
       "      <th>2020-10-08 00:00:00-04:00</th>\n",
       "      <td>117.67</td>\n",
       "      <td>117.71</td>\n",
       "      <td>117.5900</td>\n",
       "      <td>117.690</td>\n",
       "      <td>3561383</td>\n",
       "      <td>0.001361</td>\n",
       "      <td>342.85</td>\n",
       "      <td>343.85</td>\n",
       "      <td>341.86</td>\n",
       "      <td>343.73</td>\n",
       "      <td>35831859</td>\n",
       "      <td>0.008805</td>\n",
       "    </tr>\n",
       "    <tr>\n",
       "      <th>2020-10-09 00:00:00-04:00</th>\n",
       "      <td>117.65</td>\n",
       "      <td>117.74</td>\n",
       "      <td>117.5000</td>\n",
       "      <td>117.705</td>\n",
       "      <td>2750029</td>\n",
       "      <td>0.000127</td>\n",
       "      <td>345.56</td>\n",
       "      <td>347.35</td>\n",
       "      <td>344.89</td>\n",
       "      <td>346.84</td>\n",
       "      <td>45969566</td>\n",
       "      <td>0.009048</td>\n",
       "    </tr>\n",
       "  </tbody>\n",
       "</table>\n",
       "</div>"
      ],
      "text/plain": [
       "                              AGG                                      \\\n",
       "                             open    high       low    close   volume   \n",
       "time                                                                    \n",
       "2020-10-05 00:00:00-04:00  117.74  117.74  117.5200  117.520  4343747   \n",
       "2020-10-06 00:00:00-04:00  117.60  117.84  117.4900  117.610  3973998   \n",
       "2020-10-07 00:00:00-04:00  117.53  117.66  117.4515  117.530  3867168   \n",
       "2020-10-08 00:00:00-04:00  117.67  117.71  117.5900  117.690  3561383   \n",
       "2020-10-09 00:00:00-04:00  117.65  117.74  117.5000  117.705  2750029   \n",
       "\n",
       "                                           SPY                          \\\n",
       "                          daily_return    open    high     low   close   \n",
       "time                                                                     \n",
       "2020-10-05 00:00:00-04:00          NaN  336.06  339.96  336.01  339.73   \n",
       "2020-10-06 00:00:00-04:00     0.000766  339.92  342.17  334.38  334.94   \n",
       "2020-10-07 00:00:00-04:00    -0.000680  338.12  341.63  338.09  340.73   \n",
       "2020-10-08 00:00:00-04:00     0.001361  342.85  343.85  341.86  343.73   \n",
       "2020-10-09 00:00:00-04:00     0.000127  345.56  347.35  344.89  346.84   \n",
       "\n",
       "                                                  \n",
       "                             volume daily_return  \n",
       "time                                              \n",
       "2020-10-05 00:00:00-04:00  38510456          NaN  \n",
       "2020-10-06 00:00:00-04:00  74231873    -0.014099  \n",
       "2020-10-07 00:00:00-04:00  40579189     0.017287  \n",
       "2020-10-08 00:00:00-04:00  35831859     0.008805  \n",
       "2020-10-09 00:00:00-04:00  45969566     0.009048  "
      ]
     },
     "execution_count": 44,
     "metadata": {},
     "output_type": "execute_result"
    }
   ],
   "source": [
    "# Printing the simulation input data\n",
    "retire.portfolio_data.head()"
   ]
  },
  {
   "cell_type": "code",
   "execution_count": 45,
   "metadata": {},
   "outputs": [
    {
     "name": "stdout",
     "output_type": "stream",
     "text": [
      "Running Monte Carlo simulation number 0.\n",
      "Running Monte Carlo simulation number 10.\n",
      "Running Monte Carlo simulation number 20.\n",
      "Running Monte Carlo simulation number 30.\n",
      "Running Monte Carlo simulation number 40.\n",
      "Running Monte Carlo simulation number 50.\n",
      "Running Monte Carlo simulation number 60.\n",
      "Running Monte Carlo simulation number 70.\n",
      "Running Monte Carlo simulation number 80.\n",
      "Running Monte Carlo simulation number 90.\n",
      "Running Monte Carlo simulation number 100.\n",
      "Running Monte Carlo simulation number 110.\n",
      "Running Monte Carlo simulation number 120.\n",
      "Running Monte Carlo simulation number 130.\n",
      "Running Monte Carlo simulation number 140.\n",
      "Running Monte Carlo simulation number 150.\n",
      "Running Monte Carlo simulation number 160.\n",
      "Running Monte Carlo simulation number 170.\n",
      "Running Monte Carlo simulation number 180.\n",
      "Running Monte Carlo simulation number 190.\n",
      "Running Monte Carlo simulation number 200.\n",
      "Running Monte Carlo simulation number 210.\n",
      "Running Monte Carlo simulation number 220.\n",
      "Running Monte Carlo simulation number 230.\n",
      "Running Monte Carlo simulation number 240.\n",
      "Running Monte Carlo simulation number 250.\n",
      "Running Monte Carlo simulation number 260.\n",
      "Running Monte Carlo simulation number 270.\n",
      "Running Monte Carlo simulation number 280.\n",
      "Running Monte Carlo simulation number 290.\n",
      "Running Monte Carlo simulation number 300.\n",
      "Running Monte Carlo simulation number 310.\n",
      "Running Monte Carlo simulation number 320.\n",
      "Running Monte Carlo simulation number 330.\n",
      "Running Monte Carlo simulation number 340.\n",
      "Running Monte Carlo simulation number 350.\n",
      "Running Monte Carlo simulation number 360.\n",
      "Running Monte Carlo simulation number 370.\n",
      "Running Monte Carlo simulation number 380.\n",
      "Running Monte Carlo simulation number 390.\n",
      "Running Monte Carlo simulation number 400.\n",
      "Running Monte Carlo simulation number 410.\n",
      "Running Monte Carlo simulation number 420.\n",
      "Running Monte Carlo simulation number 430.\n",
      "Running Monte Carlo simulation number 440.\n",
      "Running Monte Carlo simulation number 450.\n",
      "Running Monte Carlo simulation number 460.\n",
      "Running Monte Carlo simulation number 470.\n",
      "Running Monte Carlo simulation number 480.\n",
      "Running Monte Carlo simulation number 490.\n"
     ]
    },
    {
     "data": {
      "text/html": [
       "<div>\n",
       "<style scoped>\n",
       "    .dataframe tbody tr th:only-of-type {\n",
       "        vertical-align: middle;\n",
       "    }\n",
       "\n",
       "    .dataframe tbody tr th {\n",
       "        vertical-align: top;\n",
       "    }\n",
       "\n",
       "    .dataframe thead th {\n",
       "        text-align: right;\n",
       "    }\n",
       "</style>\n",
       "<table border=\"1\" class=\"dataframe\">\n",
       "  <thead>\n",
       "    <tr style=\"text-align: right;\">\n",
       "      <th></th>\n",
       "      <th>0</th>\n",
       "      <th>1</th>\n",
       "      <th>2</th>\n",
       "      <th>3</th>\n",
       "      <th>4</th>\n",
       "      <th>5</th>\n",
       "      <th>6</th>\n",
       "      <th>7</th>\n",
       "      <th>8</th>\n",
       "      <th>9</th>\n",
       "      <th>...</th>\n",
       "      <th>490</th>\n",
       "      <th>491</th>\n",
       "      <th>492</th>\n",
       "      <th>493</th>\n",
       "      <th>494</th>\n",
       "      <th>495</th>\n",
       "      <th>496</th>\n",
       "      <th>497</th>\n",
       "      <th>498</th>\n",
       "      <th>499</th>\n",
       "    </tr>\n",
       "  </thead>\n",
       "  <tbody>\n",
       "    <tr>\n",
       "      <th>0</th>\n",
       "      <td>1.000000</td>\n",
       "      <td>1.000000</td>\n",
       "      <td>1.000000</td>\n",
       "      <td>1.000000</td>\n",
       "      <td>1.000000</td>\n",
       "      <td>1.000000</td>\n",
       "      <td>1.000000</td>\n",
       "      <td>1.000000</td>\n",
       "      <td>1.000000</td>\n",
       "      <td>1.000000</td>\n",
       "      <td>...</td>\n",
       "      <td>1.000000</td>\n",
       "      <td>1.000000</td>\n",
       "      <td>1.000000</td>\n",
       "      <td>1.000000</td>\n",
       "      <td>1.000000</td>\n",
       "      <td>1.000000</td>\n",
       "      <td>1.000000</td>\n",
       "      <td>1.000000</td>\n",
       "      <td>1.000000</td>\n",
       "      <td>1.000000</td>\n",
       "    </tr>\n",
       "    <tr>\n",
       "      <th>1</th>\n",
       "      <td>0.997951</td>\n",
       "      <td>1.004449</td>\n",
       "      <td>0.998827</td>\n",
       "      <td>1.001216</td>\n",
       "      <td>1.007453</td>\n",
       "      <td>1.006321</td>\n",
       "      <td>0.997553</td>\n",
       "      <td>1.005489</td>\n",
       "      <td>1.000554</td>\n",
       "      <td>0.997037</td>\n",
       "      <td>...</td>\n",
       "      <td>1.002864</td>\n",
       "      <td>1.000291</td>\n",
       "      <td>0.993485</td>\n",
       "      <td>1.006511</td>\n",
       "      <td>1.000554</td>\n",
       "      <td>0.999138</td>\n",
       "      <td>0.996555</td>\n",
       "      <td>0.997122</td>\n",
       "      <td>1.000101</td>\n",
       "      <td>1.009067</td>\n",
       "    </tr>\n",
       "    <tr>\n",
       "      <th>2</th>\n",
       "      <td>0.998523</td>\n",
       "      <td>1.008343</td>\n",
       "      <td>1.006859</td>\n",
       "      <td>1.000070</td>\n",
       "      <td>1.010794</td>\n",
       "      <td>1.004171</td>\n",
       "      <td>1.005421</td>\n",
       "      <td>1.017535</td>\n",
       "      <td>1.005435</td>\n",
       "      <td>1.001109</td>\n",
       "      <td>...</td>\n",
       "      <td>1.004990</td>\n",
       "      <td>1.003033</td>\n",
       "      <td>1.005169</td>\n",
       "      <td>1.009411</td>\n",
       "      <td>1.003342</td>\n",
       "      <td>0.996387</td>\n",
       "      <td>0.998661</td>\n",
       "      <td>0.991437</td>\n",
       "      <td>0.990152</td>\n",
       "      <td>1.001684</td>\n",
       "    </tr>\n",
       "    <tr>\n",
       "      <th>3</th>\n",
       "      <td>0.992737</td>\n",
       "      <td>1.007827</td>\n",
       "      <td>1.005468</td>\n",
       "      <td>0.991212</td>\n",
       "      <td>1.010568</td>\n",
       "      <td>1.005527</td>\n",
       "      <td>1.006987</td>\n",
       "      <td>1.025003</td>\n",
       "      <td>1.009721</td>\n",
       "      <td>1.002221</td>\n",
       "      <td>...</td>\n",
       "      <td>1.005176</td>\n",
       "      <td>1.006044</td>\n",
       "      <td>1.006599</td>\n",
       "      <td>1.013738</td>\n",
       "      <td>0.997153</td>\n",
       "      <td>1.000460</td>\n",
       "      <td>1.000300</td>\n",
       "      <td>0.988516</td>\n",
       "      <td>0.990492</td>\n",
       "      <td>1.003066</td>\n",
       "    </tr>\n",
       "    <tr>\n",
       "      <th>4</th>\n",
       "      <td>0.995249</td>\n",
       "      <td>1.005156</td>\n",
       "      <td>1.006934</td>\n",
       "      <td>0.993236</td>\n",
       "      <td>1.005548</td>\n",
       "      <td>0.991717</td>\n",
       "      <td>1.005833</td>\n",
       "      <td>1.025542</td>\n",
       "      <td>1.013515</td>\n",
       "      <td>1.002842</td>\n",
       "      <td>...</td>\n",
       "      <td>1.009386</td>\n",
       "      <td>1.009018</td>\n",
       "      <td>1.012875</td>\n",
       "      <td>1.023395</td>\n",
       "      <td>0.997730</td>\n",
       "      <td>1.002187</td>\n",
       "      <td>1.002982</td>\n",
       "      <td>0.989661</td>\n",
       "      <td>0.990220</td>\n",
       "      <td>0.985637</td>\n",
       "    </tr>\n",
       "    <tr>\n",
       "      <th>...</th>\n",
       "      <td>...</td>\n",
       "      <td>...</td>\n",
       "      <td>...</td>\n",
       "      <td>...</td>\n",
       "      <td>...</td>\n",
       "      <td>...</td>\n",
       "      <td>...</td>\n",
       "      <td>...</td>\n",
       "      <td>...</td>\n",
       "      <td>...</td>\n",
       "      <td>...</td>\n",
       "      <td>...</td>\n",
       "      <td>...</td>\n",
       "      <td>...</td>\n",
       "      <td>...</td>\n",
       "      <td>...</td>\n",
       "      <td>...</td>\n",
       "      <td>...</td>\n",
       "      <td>...</td>\n",
       "      <td>...</td>\n",
       "      <td>...</td>\n",
       "    </tr>\n",
       "    <tr>\n",
       "      <th>7556</th>\n",
       "      <td>32.410674</td>\n",
       "      <td>98.715314</td>\n",
       "      <td>60.467429</td>\n",
       "      <td>63.577226</td>\n",
       "      <td>47.974685</td>\n",
       "      <td>38.331911</td>\n",
       "      <td>40.519868</td>\n",
       "      <td>27.642933</td>\n",
       "      <td>49.710800</td>\n",
       "      <td>23.315722</td>\n",
       "      <td>...</td>\n",
       "      <td>42.466543</td>\n",
       "      <td>85.667543</td>\n",
       "      <td>56.280330</td>\n",
       "      <td>38.385875</td>\n",
       "      <td>48.361360</td>\n",
       "      <td>35.497168</td>\n",
       "      <td>52.824404</td>\n",
       "      <td>42.514458</td>\n",
       "      <td>76.467396</td>\n",
       "      <td>25.044673</td>\n",
       "    </tr>\n",
       "    <tr>\n",
       "      <th>7557</th>\n",
       "      <td>32.266399</td>\n",
       "      <td>98.806177</td>\n",
       "      <td>59.983873</td>\n",
       "      <td>63.352045</td>\n",
       "      <td>47.699590</td>\n",
       "      <td>38.281599</td>\n",
       "      <td>40.914719</td>\n",
       "      <td>27.713498</td>\n",
       "      <td>50.266243</td>\n",
       "      <td>23.514967</td>\n",
       "      <td>...</td>\n",
       "      <td>42.340394</td>\n",
       "      <td>85.771884</td>\n",
       "      <td>55.884097</td>\n",
       "      <td>38.662146</td>\n",
       "      <td>48.048381</td>\n",
       "      <td>35.760008</td>\n",
       "      <td>52.699615</td>\n",
       "      <td>42.590002</td>\n",
       "      <td>76.934342</td>\n",
       "      <td>25.113086</td>\n",
       "    </tr>\n",
       "    <tr>\n",
       "      <th>7558</th>\n",
       "      <td>32.393414</td>\n",
       "      <td>99.521611</td>\n",
       "      <td>59.747359</td>\n",
       "      <td>63.043471</td>\n",
       "      <td>48.048844</td>\n",
       "      <td>38.154612</td>\n",
       "      <td>40.861419</td>\n",
       "      <td>27.995782</td>\n",
       "      <td>50.300455</td>\n",
       "      <td>23.522445</td>\n",
       "      <td>...</td>\n",
       "      <td>42.424172</td>\n",
       "      <td>86.036226</td>\n",
       "      <td>55.663161</td>\n",
       "      <td>38.887891</td>\n",
       "      <td>47.977146</td>\n",
       "      <td>35.702544</td>\n",
       "      <td>52.731537</td>\n",
       "      <td>42.409218</td>\n",
       "      <td>76.246813</td>\n",
       "      <td>25.222562</td>\n",
       "    </tr>\n",
       "    <tr>\n",
       "      <th>7559</th>\n",
       "      <td>32.325754</td>\n",
       "      <td>98.571335</td>\n",
       "      <td>60.130906</td>\n",
       "      <td>62.950925</td>\n",
       "      <td>47.967484</td>\n",
       "      <td>38.109521</td>\n",
       "      <td>40.614852</td>\n",
       "      <td>27.706793</td>\n",
       "      <td>50.021028</td>\n",
       "      <td>23.462114</td>\n",
       "      <td>...</td>\n",
       "      <td>42.581162</td>\n",
       "      <td>85.554528</td>\n",
       "      <td>55.611656</td>\n",
       "      <td>38.900337</td>\n",
       "      <td>47.691967</td>\n",
       "      <td>35.886221</td>\n",
       "      <td>53.024487</td>\n",
       "      <td>42.094887</td>\n",
       "      <td>76.138402</td>\n",
       "      <td>25.481608</td>\n",
       "    </tr>\n",
       "    <tr>\n",
       "      <th>7560</th>\n",
       "      <td>32.479080</td>\n",
       "      <td>98.859884</td>\n",
       "      <td>60.277885</td>\n",
       "      <td>63.641759</td>\n",
       "      <td>48.292161</td>\n",
       "      <td>38.103632</td>\n",
       "      <td>40.467231</td>\n",
       "      <td>27.935233</td>\n",
       "      <td>49.967016</td>\n",
       "      <td>23.558776</td>\n",
       "      <td>...</td>\n",
       "      <td>42.557884</td>\n",
       "      <td>85.475336</td>\n",
       "      <td>55.746536</td>\n",
       "      <td>39.111306</td>\n",
       "      <td>48.174200</td>\n",
       "      <td>35.550209</td>\n",
       "      <td>52.986209</td>\n",
       "      <td>42.312038</td>\n",
       "      <td>76.427724</td>\n",
       "      <td>25.359842</td>\n",
       "    </tr>\n",
       "  </tbody>\n",
       "</table>\n",
       "<p>7561 rows × 500 columns</p>\n",
       "</div>"
      ],
      "text/plain": [
       "            0          1          2          3          4          5    \\\n",
       "0      1.000000   1.000000   1.000000   1.000000   1.000000   1.000000   \n",
       "1      0.997951   1.004449   0.998827   1.001216   1.007453   1.006321   \n",
       "2      0.998523   1.008343   1.006859   1.000070   1.010794   1.004171   \n",
       "3      0.992737   1.007827   1.005468   0.991212   1.010568   1.005527   \n",
       "4      0.995249   1.005156   1.006934   0.993236   1.005548   0.991717   \n",
       "...         ...        ...        ...        ...        ...        ...   \n",
       "7556  32.410674  98.715314  60.467429  63.577226  47.974685  38.331911   \n",
       "7557  32.266399  98.806177  59.983873  63.352045  47.699590  38.281599   \n",
       "7558  32.393414  99.521611  59.747359  63.043471  48.048844  38.154612   \n",
       "7559  32.325754  98.571335  60.130906  62.950925  47.967484  38.109521   \n",
       "7560  32.479080  98.859884  60.277885  63.641759  48.292161  38.103632   \n",
       "\n",
       "            6          7          8          9    ...        490        491  \\\n",
       "0      1.000000   1.000000   1.000000   1.000000  ...   1.000000   1.000000   \n",
       "1      0.997553   1.005489   1.000554   0.997037  ...   1.002864   1.000291   \n",
       "2      1.005421   1.017535   1.005435   1.001109  ...   1.004990   1.003033   \n",
       "3      1.006987   1.025003   1.009721   1.002221  ...   1.005176   1.006044   \n",
       "4      1.005833   1.025542   1.013515   1.002842  ...   1.009386   1.009018   \n",
       "...         ...        ...        ...        ...  ...        ...        ...   \n",
       "7556  40.519868  27.642933  49.710800  23.315722  ...  42.466543  85.667543   \n",
       "7557  40.914719  27.713498  50.266243  23.514967  ...  42.340394  85.771884   \n",
       "7558  40.861419  27.995782  50.300455  23.522445  ...  42.424172  86.036226   \n",
       "7559  40.614852  27.706793  50.021028  23.462114  ...  42.581162  85.554528   \n",
       "7560  40.467231  27.935233  49.967016  23.558776  ...  42.557884  85.475336   \n",
       "\n",
       "            492        493        494        495        496        497  \\\n",
       "0      1.000000   1.000000   1.000000   1.000000   1.000000   1.000000   \n",
       "1      0.993485   1.006511   1.000554   0.999138   0.996555   0.997122   \n",
       "2      1.005169   1.009411   1.003342   0.996387   0.998661   0.991437   \n",
       "3      1.006599   1.013738   0.997153   1.000460   1.000300   0.988516   \n",
       "4      1.012875   1.023395   0.997730   1.002187   1.002982   0.989661   \n",
       "...         ...        ...        ...        ...        ...        ...   \n",
       "7556  56.280330  38.385875  48.361360  35.497168  52.824404  42.514458   \n",
       "7557  55.884097  38.662146  48.048381  35.760008  52.699615  42.590002   \n",
       "7558  55.663161  38.887891  47.977146  35.702544  52.731537  42.409218   \n",
       "7559  55.611656  38.900337  47.691967  35.886221  53.024487  42.094887   \n",
       "7560  55.746536  39.111306  48.174200  35.550209  52.986209  42.312038   \n",
       "\n",
       "            498        499  \n",
       "0      1.000000   1.000000  \n",
       "1      1.000101   1.009067  \n",
       "2      0.990152   1.001684  \n",
       "3      0.990492   1.003066  \n",
       "4      0.990220   0.985637  \n",
       "...         ...        ...  \n",
       "7556  76.467396  25.044673  \n",
       "7557  76.934342  25.113086  \n",
       "7558  76.246813  25.222562  \n",
       "7559  76.138402  25.481608  \n",
       "7560  76.427724  25.359842  \n",
       "\n",
       "[7561 rows x 500 columns]"
      ]
     },
     "execution_count": 45,
     "metadata": {},
     "output_type": "execute_result"
    }
   ],
   "source": [
    "# Running a Monte Carlo simulation to forecast 30 years cumulative returns\n",
    "retire.calc_cumulative_return()"
   ]
  },
  {
   "cell_type": "code",
   "execution_count": 46,
   "metadata": {},
   "outputs": [
    {
     "data": {
      "image/png": "[encoded data removed]",
      "text/plain": [
       "<Figure size 432x288 with 1 Axes>"
      ]
     },
     "metadata": {
      "needs_background": "light"
     },
     "output_type": "display_data"
    }
   ],
   "source": [
    "# Plot simulation outcomes\n",
    "plot= retire.plot_simulation()"
   ]
  },
  {
   "cell_type": "code",
   "execution_count": 47,
   "metadata": {},
   "outputs": [
    {
     "data": {
      "image/png": "[encoded data removed]",
      "text/plain": [
       "<Figure size 432x288 with 1 Axes>"
      ]
     },
     "metadata": {
      "needs_background": "light"
     },
     "output_type": "display_data"
    }
   ],
   "source": [
    "# Plot probability distribution and confidence intervals\n",
    "dist_plot = retire.plot_distribution()"
   ]
  },
  {
   "cell_type": "markdown",
   "metadata": {},
   "source": [
    "### Retirement Analysis"
   ]
  },
  {
   "cell_type": "code",
   "execution_count": 50,
   "metadata": {},
   "outputs": [
    {
     "name": "stdout",
     "output_type": "stream",
     "text": [
      "count           500.000000\n",
      "mean             42.612171\n",
      "std              20.023965\n",
      "min               9.509626\n",
      "25%              27.929679\n",
      "50%              38.759075\n",
      "75%              52.696642\n",
      "max             124.162585\n",
      "95% CI Lower     15.491607\n",
      "95% CI Upper     97.148461\n",
      "Name: 7560, dtype: float64\n"
     ]
    }
   ],
   "source": [
    "# Fetch summary statistics from the Monte Carlo simulation results\n",
    "stats= retire.summarize_cumulative_return()\n",
    "\n",
    "# Print summary statistics\n",
    "print(stats)"
   ]
  },
  {
   "cell_type": "markdown",
   "metadata": {},
   "source": [
    "### Calculate the expected portfolio return at the 95% lower and upper confidence intervals based on a `$20,000` initial investment."
   ]
  },
  {
   "cell_type": "code",
   "execution_count": 52,
   "metadata": {},
   "outputs": [
    {
     "name": "stdout",
     "output_type": "stream",
     "text": [
      "There is a 95% chance that an initial investment of $20000 in the portfolio over the next 30 years will end within in the range of $1942969.21 and $309832.15\n"
     ]
    }
   ],
   "source": [
    "# Set initial investment\n",
    "initial_investment = 20000\n",
    "\n",
    "# Use the lower and upper `95%` confidence intervals to calculate the range of the possible outcomes of our $20,000\n",
    "retire_ci_upper= round(stats[8]*initial_investment,2)\n",
    "retire_ci_lower= round(stats[9]*initial_investment,2)\n",
    "\n",
    "# Print results\n",
    "print(f\"There is a 95% chance that an initial investment of ${initial_investment} in the portfolio\"\n",
    "      f\" over the next 30 years will end within in the range of\"\n",
    "      f\" ${retire_ci_lower} and ${retire_ci_upper}\")"
   ]
  },
  {
   "cell_type": "markdown",
   "metadata": {},
   "source": [
    "### Calculate the expected portfolio return at the `95%` lower and upper confidence intervals based on a `50%` increase in the initial investment."
   ]
  },
  {
   "cell_type": "code",
   "execution_count": 54,
   "metadata": {},
   "outputs": [
    {
     "name": "stdout",
     "output_type": "stream",
     "text": [
      "There is a 95% chance that an initial investment of $30000.0 in the portfolio over the next 30 years will end within in the range of $2914453.82 and $464748.22\n"
     ]
    }
   ],
   "source": [
    "# Set initial investment\n",
    "initial_investment = 20000 * 1.5\n",
    "\n",
    "# Use the lower and upper `95%` confidence intervals to calculate the range of the possible outcomes of our $30,000\n",
    "retire_ciUpper= round(stats[8]*initial_investment,2)\n",
    "retire_ciLower= round(stats[9]*initial_investment,2)\n",
    "\n",
    "# Print results\n",
    "print(f\"There is a 95% chance that an initial investment of ${initial_investment} in the portfolio\"\n",
    "      f\" over the next 30 years will end within in the range of\"\n",
    "      f\" ${retire_ciLower} and ${retire_ciUpper}\")"
   ]
  },
  {
   "cell_type": "markdown",
   "metadata": {},
   "source": [
    "## Optional Challenge - Early Retirement\n",
    "\n",
    "\n",
    "### Five Years Retirement Option"
   ]
  },
  {
   "cell_type": "code",
   "execution_count": null,
   "metadata": {},
   "outputs": [],
   "source": [
    "# Configuring a Monte Carlo simulation to forecast 5 years cumulative returns\n",
    "# YOUR CODE HERE!"
   ]
  },
  {
   "cell_type": "code",
   "execution_count": null,
   "metadata": {},
   "outputs": [],
   "source": [
    "# Running a Monte Carlo simulation to forecast 5 years cumulative returns\n",
    "# YOUR CODE HERE!"
   ]
  },
  {
   "cell_type": "code",
   "execution_count": null,
   "metadata": {},
   "outputs": [],
   "source": [
    "# Plot simulation outcomes\n",
    "# YOUR CODE HERE!"
   ]
  },
  {
   "cell_type": "code",
   "execution_count": null,
   "metadata": {},
   "outputs": [],
   "source": [
    "# Plot probability distribution and confidence intervals\n",
    "# YOUR CODE HERE!"
   ]
  },
  {
   "cell_type": "code",
   "execution_count": null,
   "metadata": {},
   "outputs": [],
   "source": [
    "# Fetch summary statistics from the Monte Carlo simulation results\n",
    "# YOUR CODE HERE!\n",
    "\n",
    "# Print summary statistics\n",
    "# YOUR CODE HERE!"
   ]
  },
  {
   "cell_type": "code",
   "execution_count": null,
   "metadata": {},
   "outputs": [],
   "source": [
    "# Set initial investment\n",
    "# YOUR CODE HERE!\n",
    "\n",
    "# Use the lower and upper `95%` confidence intervals to calculate the range of the possible outcomes of our $60,000\n",
    "# YOUR CODE HERE!\n",
    "\n",
    "# Print results\n",
    "print(f\"There is a 95% chance that an initial investment of ${initial_investment} in the portfolio\"\n",
    "      f\" over the next 5 years will end within in the range of\"\n",
    "      f\" ${ci_lower_five} and ${ci_upper_five}\")"
   ]
  },
  {
   "cell_type": "markdown",
   "metadata": {},
   "source": [
    "### Ten Years Retirement Option"
   ]
  },
  {
   "cell_type": "code",
   "execution_count": null,
   "metadata": {},
   "outputs": [],
   "source": [
    "# Configuring a Monte Carlo simulation to forecast 10 years cumulative returns\n",
    "# YOUR CODE HERE!"
   ]
  },
  {
   "cell_type": "code",
   "execution_count": null,
   "metadata": {},
   "outputs": [],
   "source": [
    "# Running a Monte Carlo simulation to forecast 10 years cumulative returns\n",
    "# YOUR CODE HERE!"
   ]
  },
  {
   "cell_type": "code",
   "execution_count": null,
   "metadata": {},
   "outputs": [],
   "source": [
    "# Plot simulation outcomes\n",
    "# YOUR CODE HERE!"
   ]
  },
  {
   "cell_type": "code",
   "execution_count": null,
   "metadata": {},
   "outputs": [],
   "source": [
    "# Plot probability distribution and confidence intervals\n",
    "# YOUR CODE HERE!"
   ]
  },
  {
   "cell_type": "code",
   "execution_count": null,
   "metadata": {},
   "outputs": [],
   "source": [
    "# Fetch summary statistics from the Monte Carlo simulation results\n",
    "# YOUR CODE HERE!\n",
    "\n",
    "# Print summary statistics\n",
    "# YOUR CODE HERE!"
   ]
  },
  {
   "cell_type": "code",
   "execution_count": null,
   "metadata": {},
   "outputs": [],
   "source": [
    "# Set initial investment\n",
    "# YOUR CODE HERE!\n",
    "\n",
    "# Use the lower and upper `95%` confidence intervals to calculate the range of the possible outcomes of our $60,000\n",
    "# YOUR CODE HERE!\n",
    "\n",
    "# Print results\n",
    "print(f\"There is a 95% chance that an initial investment of ${initial_investment} in the portfolio\"\n",
    "      f\" over the next 10 years will end within in the range of\"\n",
    "      f\" ${ci_lower_ten} and ${ci_upper_ten}\")"
   ]
  }
 ],
 "metadata": {
  "kernelspec": {
   "display_name": "Python 3",
   "language": "python",
   "name": "python3"
  },
  "language_info": {
   "codemirror_mode": {
    "name": "ipython",
    "version": 3
   },
   "file_extension": ".py",
   "mimetype": "text/x-python",
   "name": "python",
   "nbconvert_exporter": "python",
   "pygments_lexer": "ipython3",
   "version": "3.7.9"
  }
 },
 "nbformat": 4,
 "nbformat_minor": 4
}
